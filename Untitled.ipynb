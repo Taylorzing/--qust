{
 "cells": [
  {
   "cell_type": "code",
   "execution_count": 13,
   "id": "180a1c75",
   "metadata": {},
   "outputs": [
    {
     "name": "stdout",
     "output_type": "stream",
     "text": [
      "面积为A0:0.013471\n"
     ]
    },
    {
     "data": {
      "text/html": [
       "<div>\n",
       "<style scoped>\n",
       "    .dataframe tbody tr th:only-of-type {\n",
       "        vertical-align: middle;\n",
       "    }\n",
       "\n",
       "    .dataframe tbody tr th {\n",
       "        vertical-align: top;\n",
       "    }\n",
       "\n",
       "    .dataframe thead th {\n",
       "        text-align: right;\n",
       "    }\n",
       "</style>\n",
       "<table border=\"1\" class=\"dataframe\">\n",
       "  <thead>\n",
       "    <tr style=\"text-align: right;\">\n",
       "      <th></th>\n",
       "      <th>0</th>\n",
       "      <th>1</th>\n",
       "      <th>2</th>\n",
       "      <th>3</th>\n",
       "      <th>4</th>\n",
       "      <th>5</th>\n",
       "      <th>6</th>\n",
       "    </tr>\n",
       "  </thead>\n",
       "  <tbody>\n",
       "    <tr>\n",
       "      <th>0</th>\n",
       "      <td>71.820000</td>\n",
       "      <td>67.260000</td>\n",
       "      <td>74.710000</td>\n",
       "      <td>82.450000</td>\n",
       "      <td>85.690000</td>\n",
       "      <td>79.780000</td>\n",
       "      <td>85.190000</td>\n",
       "    </tr>\n",
       "    <tr>\n",
       "      <th>1</th>\n",
       "      <td>60.350000</td>\n",
       "      <td>49.330000</td>\n",
       "      <td>51.600000</td>\n",
       "      <td>48.670000</td>\n",
       "      <td>51.730000</td>\n",
       "      <td>56.490000</td>\n",
       "      <td>50.730000</td>\n",
       "    </tr>\n",
       "    <tr>\n",
       "      <th>2</th>\n",
       "      <td>34.610000</td>\n",
       "      <td>32.580000</td>\n",
       "      <td>33.180000</td>\n",
       "      <td>37.320000</td>\n",
       "      <td>38.380000</td>\n",
       "      <td>40.500000</td>\n",
       "      <td>39.970000</td>\n",
       "    </tr>\n",
       "    <tr>\n",
       "      <th>3</th>\n",
       "      <td>59.385134</td>\n",
       "      <td>118.770267</td>\n",
       "      <td>178.155401</td>\n",
       "      <td>237.540535</td>\n",
       "      <td>296.925669</td>\n",
       "      <td>356.310802</td>\n",
       "      <td>415.695936</td>\n",
       "    </tr>\n",
       "  </tbody>\n",
       "</table>\n",
       "</div>"
      ],
      "text/plain": [
       "           0           1           2           3           4           5  \\\n",
       "0  71.820000   67.260000   74.710000   82.450000   85.690000   79.780000   \n",
       "1  60.350000   49.330000   51.600000   48.670000   51.730000   56.490000   \n",
       "2  34.610000   32.580000   33.180000   37.320000   38.380000   40.500000   \n",
       "3  59.385134  118.770267  178.155401  237.540535  296.925669  356.310802   \n",
       "\n",
       "            6  \n",
       "0   85.190000  \n",
       "1   50.730000  \n",
       "2   39.970000  \n",
       "3  415.695936  "
      ]
     },
     "execution_count": 13,
     "metadata": {},
     "output_type": "execute_result"
    }
   ],
   "source": [
    "import matplotlib.pyplot as plt\n",
    "import numpy as np\n",
    "import pandas as pd\n",
    "from scipy import stats\n",
    "\n",
    "dp=[0.05,0.07,0.09]\n",
    "A0=(0.131/2)**2*3.14\n",
    "print(\"面积为A0:%f\"%A0)\n",
    "#时间加60s\n",
    "dt1=np.array([71.82,67.26,74.71,82.45,85.69,79.78,85.19])#总共9:18.97\n",
    "dt2=np.array([60.35,49.33,51.60,48.67,51.73,56.49,50.73]) #总共6:59.62  数据有噪声 第一个平均超10  倒数第二个超6\n",
    "dt3=np.array([34.61,32.58,33.18,37.32,38.38,40.50,39.97]) #总共4:38.61\n",
    "\n",
    "V=np.arange(0.8,6.0,0.8)  #体积每次0.8L\n",
    "q=np.array(V/A0)\n",
    "q.reshape(1,7)\n",
    "q\n",
    "df=pd.DataFrame([dt1,dt2,dt3,q])\n",
    "df.reindex([\"dt1\",\"dt2\",\"dt3\",\"q\"])\n",
    "df"
   ]
  },
  {
   "cell_type": "code",
   "execution_count": null,
   "id": "3577859f",
   "metadata": {},
   "outputs": [],
   "source": []
  }
 ],
 "metadata": {
  "kernelspec": {
   "display_name": "Python 3 (ipykernel)",
   "language": "python",
   "name": "python3"
  },
  "language_info": {
   "codemirror_mode": {
    "name": "ipython",
    "version": 3
   },
   "file_extension": ".py",
   "mimetype": "text/x-python",
   "name": "python",
   "nbconvert_exporter": "python",
   "pygments_lexer": "ipython3",
   "version": "3.9.2"
  }
 },
 "nbformat": 4,
 "nbformat_minor": 5
}
